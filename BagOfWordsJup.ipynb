{
 "cells": [
  {
   "cell_type": "markdown",
   "metadata": {},
   "source": [
    "# Document-Term Matrix - Bag of Words Model, extreme sparsity, and heuristics\n",
    "\n",
    "#### Author: Lan, Xing Yang : bilan604@yahoo.com  \n",
    "\n",
    "Last updated: August 5<sup>th</sup>, 2021"
   ]
  },
  {
   "cell_type": "code",
   "execution_count": 1,
   "metadata": {},
   "outputs": [],
   "source": [
    "import pandas as pd\n",
    "import numpy as np\n",
    "from statistics import mean\n",
    "import matplotlib.pyplot as plt"
   ]
  },
  {
   "cell_type": "markdown",
   "metadata": {},
   "source": [
    "#### Dataset from Kaggle, \"excerpt\" contains academic reading passages from grades 1-12, and \"target\" contains their respective mean difficulty scores"
   ]
  },
  {
   "cell_type": "code",
   "execution_count": 2,
   "metadata": {},
   "outputs": [
    {
     "data": {
      "text/html": [
       "<div>\n",
       "<style scoped>\n",
       "    .dataframe tbody tr th:only-of-type {\n",
       "        vertical-align: middle;\n",
       "    }\n",
       "\n",
       "    .dataframe tbody tr th {\n",
       "        vertical-align: top;\n",
       "    }\n",
       "\n",
       "    .dataframe thead th {\n",
       "        text-align: right;\n",
       "    }\n",
       "</style>\n",
       "<table border=\"1\" class=\"dataframe\">\n",
       "  <thead>\n",
       "    <tr style=\"text-align: right;\">\n",
       "      <th></th>\n",
       "      <th>id</th>\n",
       "      <th>url_legal</th>\n",
       "      <th>license</th>\n",
       "      <th>excerpt</th>\n",
       "      <th>target</th>\n",
       "      <th>standard_error</th>\n",
       "    </tr>\n",
       "  </thead>\n",
       "  <tbody>\n",
       "    <tr>\n",
       "      <th>0</th>\n",
       "      <td>c12129c31</td>\n",
       "      <td>NaN</td>\n",
       "      <td>NaN</td>\n",
       "      <td>When the young people returned to the ballroom...</td>\n",
       "      <td>-0.340259</td>\n",
       "      <td>0.464009</td>\n",
       "    </tr>\n",
       "    <tr>\n",
       "      <th>1</th>\n",
       "      <td>85aa80a4c</td>\n",
       "      <td>NaN</td>\n",
       "      <td>NaN</td>\n",
       "      <td>All through dinner time, Mrs. Fayre was somewh...</td>\n",
       "      <td>-0.315372</td>\n",
       "      <td>0.480805</td>\n",
       "    </tr>\n",
       "    <tr>\n",
       "      <th>2</th>\n",
       "      <td>b69ac6792</td>\n",
       "      <td>NaN</td>\n",
       "      <td>NaN</td>\n",
       "      <td>As Roger had predicted, the snow departed as q...</td>\n",
       "      <td>-0.580118</td>\n",
       "      <td>0.476676</td>\n",
       "    </tr>\n",
       "    <tr>\n",
       "      <th>3</th>\n",
       "      <td>dd1000b26</td>\n",
       "      <td>NaN</td>\n",
       "      <td>NaN</td>\n",
       "      <td>And outside before the palace a great garden w...</td>\n",
       "      <td>-1.054013</td>\n",
       "      <td>0.450007</td>\n",
       "    </tr>\n",
       "    <tr>\n",
       "      <th>4</th>\n",
       "      <td>37c1b32fb</td>\n",
       "      <td>NaN</td>\n",
       "      <td>NaN</td>\n",
       "      <td>Once upon a time there were Three Bears who li...</td>\n",
       "      <td>0.247197</td>\n",
       "      <td>0.510845</td>\n",
       "    </tr>\n",
       "  </tbody>\n",
       "</table>\n",
       "</div>"
      ],
      "text/plain": [
       "          id url_legal license  \\\n",
       "0  c12129c31       NaN     NaN   \n",
       "1  85aa80a4c       NaN     NaN   \n",
       "2  b69ac6792       NaN     NaN   \n",
       "3  dd1000b26       NaN     NaN   \n",
       "4  37c1b32fb       NaN     NaN   \n",
       "\n",
       "                                             excerpt    target  standard_error  \n",
       "0  When the young people returned to the ballroom... -0.340259        0.464009  \n",
       "1  All through dinner time, Mrs. Fayre was somewh... -0.315372        0.480805  \n",
       "2  As Roger had predicted, the snow departed as q... -0.580118        0.476676  \n",
       "3  And outside before the palace a great garden w... -1.054013        0.450007  \n",
       "4  Once upon a time there were Three Bears who li...  0.247197        0.510845  "
      ]
     },
     "execution_count": 2,
     "metadata": {},
     "output_type": "execute_result"
    }
   ],
   "source": [
    "original = pd.read_csv(\"readingsKgFull.csv\")\n",
    "original.head()"
   ]
  },
  {
   "cell_type": "code",
   "execution_count": 3,
   "metadata": {},
   "outputs": [
    {
     "data": {
      "text/plain": [
       "(0    When the young people returned to the ballroom...\n",
       " 1    All through dinner time, Mrs. Fayre was somewh...\n",
       " 2    As Roger had predicted, the snow departed as q...\n",
       " 3    And outside before the palace a great garden w...\n",
       " 4    Once upon a time there were Three Bears who li...\n",
       " Name: excerpt, dtype: object, 0   -0.340259\n",
       " 1   -0.315372\n",
       " 2   -0.580118\n",
       " 3   -1.054013\n",
       " 4    0.247197\n",
       " Name: target, dtype: float64)"
      ]
     },
     "execution_count": 3,
     "metadata": {},
     "output_type": "execute_result"
    }
   ],
   "source": [
    "excerpts, targets = original[\"excerpt\"], original[\"target\"]\n",
    "excerpts[0:5], targets[0:5]"
   ]
  },
  {
   "cell_type": "markdown",
   "metadata": {},
   "source": [
    "#### The distribution of target variable"
   ]
  },
  {
   "cell_type": "code",
   "execution_count": 4,
   "metadata": {},
   "outputs": [
    {
     "data": {
      "text/plain": [
       "(-3.676267773, 1.711389827)"
      ]
     },
     "execution_count": 4,
     "metadata": {},
     "output_type": "execute_result"
    },
    {
     "data": {
      "image/png": "[encoded data removed]",
      "text/plain": [
       "<Figure size 432x288 with 1 Axes>"
      ]
     },
     "metadata": {
      "needs_background": "light"
     },
     "output_type": "display_data"
    }
   ],
   "source": [
    "plt.hist(targets.array)\n",
    "min(targets.array), max(targets.array)"
   ]
  },
  {
   "cell_type": "code",
   "execution_count": 5,
   "metadata": {},
   "outputs": [],
   "source": [
    "from sklearn.feature_extraction.text import CountVectorizer\n",
    "from nltk.stem.snowball import SnowballStemmer\n",
    "import re"
   ]
  },
  {
   "cell_type": "markdown",
   "metadata": {},
   "source": [
    "## Arbituary stemming, tokenization"
   ]
  },
  {
   "cell_type": "code",
   "execution_count": 6,
   "metadata": {},
   "outputs": [],
   "source": [
    "stemmer_ = SnowballStemmer(language=\"english\")\n",
    "\n",
    "def SnowBallstem(words):\n",
    "    new_words = []\n",
    "    for i in range(len(words)):\n",
    "        if len(words[i]) > 3:\n",
    "            new_words.append(stemmer_.stem(words[i]))\n",
    "    return new_words\n",
    "\n",
    "def SBTokenizer(words):\n",
    "    words = re.sub(r\"[^(A-Za-z| )]\", \"\", words).split(\" \")\n",
    "    return \" \".join(SnowBallstem(words))\n",
    "\n",
    "def SBTokenizeAll(corpuses):\n",
    "    new = []\n",
    "    for i in range(0,len(corpuses)):\n",
    "        new.append(SBTokenizer(corpuses[i]))\n",
    "    return new"
   ]
  },
  {
   "cell_type": "code",
   "execution_count": 7,
   "metadata": {},
   "outputs": [
    {
     "data": {
      "text/plain": [
       "'when young peopl return ballroom present decid chang appear instead interior scene winter landscapeth floor cover with snowwhit canva laid smooth rumpl over bump hillock like real snow field numer palm evergreen that decor room were powder with flour strewn with tuft cotton like snow also diamond dust been light sprinkl them glitter crystal icicl hung from branchesat each room wall hung beauti bearskin rugthes rug were prize girl boy this gameth girl were gather room boy other call north pole other south pole each player given small flag which they were plant reach polethi would have been easi matter each travel oblig wear snowsho'"
      ]
     },
     "execution_count": 7,
     "metadata": {},
     "output_type": "execute_result"
    }
   ],
   "source": [
    "SBTokenizer(excerpts[0])"
   ]
  },
  {
   "cell_type": "markdown",
   "metadata": {},
   "source": [
    "#### ngram_range=(1,1): only unigrams"
   ]
  },
  {
   "cell_type": "code",
   "execution_count": 8,
   "metadata": {},
   "outputs": [],
   "source": [
    "## alternatively; different ngram_range, scaling, grouping columns, tf-idf..."
   ]
  },
  {
   "cell_type": "code",
   "execution_count": 9,
   "metadata": {},
   "outputs": [],
   "source": [
    "## alternatively; token_pattern=r\"[A-Za-z]{4,25}\", tokenizer=..., analyzer=...\n",
    "CV = CountVectorizer(ngram_range=(1,1)) \n",
    "matrix = CV.fit_transform(SBTokenizeAll(excerpts.array)).toarray()\n",
    "words = CV.get_feature_names()"
   ]
  },
  {
   "cell_type": "code",
   "execution_count": 10,
   "metadata": {},
   "outputs": [
    {
     "data": {
      "text/plain": [
       "22386"
      ]
     },
     "execution_count": 10,
     "metadata": {},
     "output_type": "execute_result"
    }
   ],
   "source": [
    "len(words)"
   ]
  },
  {
   "cell_type": "code",
   "execution_count": 11,
   "metadata": {},
   "outputs": [],
   "source": [
    "# alternatively; use pd's drop() function on a list of words, which is slowe\n",
    "\n",
    "def check_(col):\n",
    "    # checks for at least n nonzero values\n",
    "    counter = 0\n",
    "    while counter < 3: # not defining n for runtime\n",
    "        for i in range(len(col)):\n",
    "            if col[i]!= 0:\n",
    "                counter += 1\n",
    "        if counter < 3:\n",
    "            return False\n",
    "        return True\n",
    "\n",
    "def drop_cols_(matrix, words):\n",
    "    # returns a dictionary key: colname value: col\n",
    "    di = {}\n",
    "    for j in range(len(words)):\n",
    "        ## c = matrix[:,j]\n",
    "        if check_(matrix[:,j]):\n",
    "            di[words[j]] = matrix[:,j]\n",
    "    return di"
   ]
  },
  {
   "cell_type": "code",
   "execution_count": 12,
   "metadata": {},
   "outputs": [
    {
     "data": {
      "text/html": [
       "<div>\n",
       "<style scoped>\n",
       "    .dataframe tbody tr th:only-of-type {\n",
       "        vertical-align: middle;\n",
       "    }\n",
       "\n",
       "    .dataframe tbody tr th {\n",
       "        vertical-align: top;\n",
       "    }\n",
       "\n",
       "    .dataframe thead th {\n",
       "        text-align: right;\n",
       "    }\n",
       "</style>\n",
       "<table border=\"1\" class=\"dataframe\">\n",
       "  <thead>\n",
       "    <tr style=\"text-align: right;\">\n",
       "      <th></th>\n",
       "      <th>abandon</th>\n",
       "      <th>abbey</th>\n",
       "      <th>abbrevi</th>\n",
       "      <th>aberr</th>\n",
       "      <th>abid</th>\n",
       "      <th>abil</th>\n",
       "      <th>abl</th>\n",
       "      <th>aboard</th>\n",
       "      <th>abod</th>\n",
       "      <th>abound</th>\n",
       "      <th>...</th>\n",
       "      <th>youv</th>\n",
       "      <th>youyou</th>\n",
       "      <th>zeal</th>\n",
       "      <th>zenith</th>\n",
       "      <th>zero</th>\n",
       "      <th>zeus</th>\n",
       "      <th>zigzag</th>\n",
       "      <th>zinc</th>\n",
       "      <th>zone</th>\n",
       "      <th>zoolog</th>\n",
       "    </tr>\n",
       "  </thead>\n",
       "  <tbody>\n",
       "    <tr>\n",
       "      <th>0</th>\n",
       "      <td>0</td>\n",
       "      <td>0</td>\n",
       "      <td>0</td>\n",
       "      <td>0</td>\n",
       "      <td>0</td>\n",
       "      <td>0</td>\n",
       "      <td>0</td>\n",
       "      <td>0</td>\n",
       "      <td>0</td>\n",
       "      <td>0</td>\n",
       "      <td>...</td>\n",
       "      <td>0</td>\n",
       "      <td>0</td>\n",
       "      <td>0</td>\n",
       "      <td>0</td>\n",
       "      <td>0</td>\n",
       "      <td>0</td>\n",
       "      <td>0</td>\n",
       "      <td>0</td>\n",
       "      <td>0</td>\n",
       "      <td>0</td>\n",
       "    </tr>\n",
       "    <tr>\n",
       "      <th>1</th>\n",
       "      <td>0</td>\n",
       "      <td>0</td>\n",
       "      <td>0</td>\n",
       "      <td>0</td>\n",
       "      <td>0</td>\n",
       "      <td>0</td>\n",
       "      <td>0</td>\n",
       "      <td>0</td>\n",
       "      <td>0</td>\n",
       "      <td>0</td>\n",
       "      <td>...</td>\n",
       "      <td>0</td>\n",
       "      <td>0</td>\n",
       "      <td>0</td>\n",
       "      <td>0</td>\n",
       "      <td>0</td>\n",
       "      <td>0</td>\n",
       "      <td>0</td>\n",
       "      <td>0</td>\n",
       "      <td>0</td>\n",
       "      <td>0</td>\n",
       "    </tr>\n",
       "    <tr>\n",
       "      <th>2</th>\n",
       "      <td>0</td>\n",
       "      <td>0</td>\n",
       "      <td>0</td>\n",
       "      <td>0</td>\n",
       "      <td>0</td>\n",
       "      <td>0</td>\n",
       "      <td>0</td>\n",
       "      <td>0</td>\n",
       "      <td>0</td>\n",
       "      <td>0</td>\n",
       "      <td>...</td>\n",
       "      <td>0</td>\n",
       "      <td>0</td>\n",
       "      <td>0</td>\n",
       "      <td>0</td>\n",
       "      <td>0</td>\n",
       "      <td>0</td>\n",
       "      <td>0</td>\n",
       "      <td>0</td>\n",
       "      <td>0</td>\n",
       "      <td>0</td>\n",
       "    </tr>\n",
       "    <tr>\n",
       "      <th>3</th>\n",
       "      <td>0</td>\n",
       "      <td>0</td>\n",
       "      <td>0</td>\n",
       "      <td>0</td>\n",
       "      <td>0</td>\n",
       "      <td>0</td>\n",
       "      <td>0</td>\n",
       "      <td>0</td>\n",
       "      <td>0</td>\n",
       "      <td>0</td>\n",
       "      <td>...</td>\n",
       "      <td>0</td>\n",
       "      <td>0</td>\n",
       "      <td>0</td>\n",
       "      <td>0</td>\n",
       "      <td>0</td>\n",
       "      <td>0</td>\n",
       "      <td>0</td>\n",
       "      <td>0</td>\n",
       "      <td>0</td>\n",
       "      <td>0</td>\n",
       "    </tr>\n",
       "    <tr>\n",
       "      <th>4</th>\n",
       "      <td>0</td>\n",
       "      <td>0</td>\n",
       "      <td>0</td>\n",
       "      <td>0</td>\n",
       "      <td>0</td>\n",
       "      <td>0</td>\n",
       "      <td>0</td>\n",
       "      <td>0</td>\n",
       "      <td>0</td>\n",
       "      <td>0</td>\n",
       "      <td>...</td>\n",
       "      <td>0</td>\n",
       "      <td>0</td>\n",
       "      <td>0</td>\n",
       "      <td>0</td>\n",
       "      <td>0</td>\n",
       "      <td>0</td>\n",
       "      <td>0</td>\n",
       "      <td>0</td>\n",
       "      <td>0</td>\n",
       "      <td>0</td>\n",
       "    </tr>\n",
       "    <tr>\n",
       "      <th>...</th>\n",
       "      <td>...</td>\n",
       "      <td>...</td>\n",
       "      <td>...</td>\n",
       "      <td>...</td>\n",
       "      <td>...</td>\n",
       "      <td>...</td>\n",
       "      <td>...</td>\n",
       "      <td>...</td>\n",
       "      <td>...</td>\n",
       "      <td>...</td>\n",
       "      <td>...</td>\n",
       "      <td>...</td>\n",
       "      <td>...</td>\n",
       "      <td>...</td>\n",
       "      <td>...</td>\n",
       "      <td>...</td>\n",
       "      <td>...</td>\n",
       "      <td>...</td>\n",
       "      <td>...</td>\n",
       "      <td>...</td>\n",
       "      <td>...</td>\n",
       "    </tr>\n",
       "    <tr>\n",
       "      <th>2829</th>\n",
       "      <td>0</td>\n",
       "      <td>0</td>\n",
       "      <td>0</td>\n",
       "      <td>0</td>\n",
       "      <td>0</td>\n",
       "      <td>0</td>\n",
       "      <td>0</td>\n",
       "      <td>0</td>\n",
       "      <td>0</td>\n",
       "      <td>0</td>\n",
       "      <td>...</td>\n",
       "      <td>0</td>\n",
       "      <td>0</td>\n",
       "      <td>0</td>\n",
       "      <td>0</td>\n",
       "      <td>0</td>\n",
       "      <td>0</td>\n",
       "      <td>0</td>\n",
       "      <td>0</td>\n",
       "      <td>0</td>\n",
       "      <td>0</td>\n",
       "    </tr>\n",
       "    <tr>\n",
       "      <th>2830</th>\n",
       "      <td>0</td>\n",
       "      <td>0</td>\n",
       "      <td>0</td>\n",
       "      <td>0</td>\n",
       "      <td>0</td>\n",
       "      <td>0</td>\n",
       "      <td>0</td>\n",
       "      <td>0</td>\n",
       "      <td>0</td>\n",
       "      <td>0</td>\n",
       "      <td>...</td>\n",
       "      <td>0</td>\n",
       "      <td>0</td>\n",
       "      <td>0</td>\n",
       "      <td>0</td>\n",
       "      <td>0</td>\n",
       "      <td>0</td>\n",
       "      <td>0</td>\n",
       "      <td>0</td>\n",
       "      <td>0</td>\n",
       "      <td>0</td>\n",
       "    </tr>\n",
       "    <tr>\n",
       "      <th>2831</th>\n",
       "      <td>0</td>\n",
       "      <td>0</td>\n",
       "      <td>0</td>\n",
       "      <td>0</td>\n",
       "      <td>0</td>\n",
       "      <td>0</td>\n",
       "      <td>0</td>\n",
       "      <td>0</td>\n",
       "      <td>0</td>\n",
       "      <td>0</td>\n",
       "      <td>...</td>\n",
       "      <td>0</td>\n",
       "      <td>0</td>\n",
       "      <td>0</td>\n",
       "      <td>0</td>\n",
       "      <td>0</td>\n",
       "      <td>0</td>\n",
       "      <td>0</td>\n",
       "      <td>0</td>\n",
       "      <td>0</td>\n",
       "      <td>0</td>\n",
       "    </tr>\n",
       "    <tr>\n",
       "      <th>2832</th>\n",
       "      <td>0</td>\n",
       "      <td>0</td>\n",
       "      <td>0</td>\n",
       "      <td>0</td>\n",
       "      <td>0</td>\n",
       "      <td>0</td>\n",
       "      <td>0</td>\n",
       "      <td>0</td>\n",
       "      <td>0</td>\n",
       "      <td>0</td>\n",
       "      <td>...</td>\n",
       "      <td>0</td>\n",
       "      <td>0</td>\n",
       "      <td>0</td>\n",
       "      <td>0</td>\n",
       "      <td>0</td>\n",
       "      <td>0</td>\n",
       "      <td>0</td>\n",
       "      <td>0</td>\n",
       "      <td>0</td>\n",
       "      <td>0</td>\n",
       "    </tr>\n",
       "    <tr>\n",
       "      <th>2833</th>\n",
       "      <td>0</td>\n",
       "      <td>0</td>\n",
       "      <td>0</td>\n",
       "      <td>0</td>\n",
       "      <td>0</td>\n",
       "      <td>0</td>\n",
       "      <td>0</td>\n",
       "      <td>0</td>\n",
       "      <td>0</td>\n",
       "      <td>0</td>\n",
       "      <td>...</td>\n",
       "      <td>0</td>\n",
       "      <td>0</td>\n",
       "      <td>0</td>\n",
       "      <td>0</td>\n",
       "      <td>0</td>\n",
       "      <td>0</td>\n",
       "      <td>0</td>\n",
       "      <td>0</td>\n",
       "      <td>0</td>\n",
       "      <td>0</td>\n",
       "    </tr>\n",
       "  </tbody>\n",
       "</table>\n",
       "<p>2834 rows × 6638 columns</p>\n",
       "</div>"
      ],
      "text/plain": [
       "      abandon  abbey  abbrevi  aberr  abid  abil  abl  aboard  abod  abound  \\\n",
       "0           0      0        0      0     0     0    0       0     0       0   \n",
       "1           0      0        0      0     0     0    0       0     0       0   \n",
       "2           0      0        0      0     0     0    0       0     0       0   \n",
       "3           0      0        0      0     0     0    0       0     0       0   \n",
       "4           0      0        0      0     0     0    0       0     0       0   \n",
       "...       ...    ...      ...    ...   ...   ...  ...     ...   ...     ...   \n",
       "2829        0      0        0      0     0     0    0       0     0       0   \n",
       "2830        0      0        0      0     0     0    0       0     0       0   \n",
       "2831        0      0        0      0     0     0    0       0     0       0   \n",
       "2832        0      0        0      0     0     0    0       0     0       0   \n",
       "2833        0      0        0      0     0     0    0       0     0       0   \n",
       "\n",
       "      ...  youv  youyou  zeal  zenith  zero  zeus  zigzag  zinc  zone  zoolog  \n",
       "0     ...     0       0     0       0     0     0       0     0     0       0  \n",
       "1     ...     0       0     0       0     0     0       0     0     0       0  \n",
       "2     ...     0       0     0       0     0     0       0     0     0       0  \n",
       "3     ...     0       0     0       0     0     0       0     0     0       0  \n",
       "4     ...     0       0     0       0     0     0       0     0     0       0  \n",
       "...   ...   ...     ...   ...     ...   ...   ...     ...   ...   ...     ...  \n",
       "2829  ...     0       0     0       0     0     0       0     0     0       0  \n",
       "2830  ...     0       0     0       0     0     0       0     0     0       0  \n",
       "2831  ...     0       0     0       0     0     0       0     0     0       0  \n",
       "2832  ...     0       0     0       0     0     0       0     0     0       0  \n",
       "2833  ...     0       0     0       0     0     0       0     0     0       0  \n",
       "\n",
       "[2834 rows x 6638 columns]"
      ]
     },
     "execution_count": 12,
     "metadata": {},
     "output_type": "execute_result"
    }
   ],
   "source": [
    "df = pd.DataFrame(drop_cols_(matrix, words))\n",
    "df"
   ]
  },
  {
   "cell_type": "markdown",
   "metadata": {},
   "source": [
    "#### 22,386 columns to 6,638  \n",
    "\n",
    "#### Albeit; an incomplete dictionary"
   ]
  },
  {
   "cell_type": "markdown",
   "metadata": {},
   "source": [
    "### Train, test splitting for later self evaluation in pandas DF"
   ]
  },
  {
   "cell_type": "code",
   "execution_count": 13,
   "metadata": {},
   "outputs": [],
   "source": [
    "from sklearn.model_selection import train_test_split\n",
    "from sklearn.metrics import mean_squared_error"
   ]
  },
  {
   "cell_type": "code",
   "execution_count": 14,
   "metadata": {},
   "outputs": [],
   "source": [
    "df[\"y_vari\"] = targets\n",
    "train, test = train_test_split(df, test_size = 0.2, random_state = 12)"
   ]
  },
  {
   "cell_type": "code",
   "execution_count": 15,
   "metadata": {},
   "outputs": [
    {
     "data": {
      "text/plain": [
       "(pandas.core.frame.DataFrame, pandas.core.frame.DataFrame)"
      ]
     },
     "execution_count": 15,
     "metadata": {},
     "output_type": "execute_result"
    }
   ],
   "source": [
    "X_train, y_train = train.copy().drop(columns=\"y_vari\"), train[\"y_vari\"]\n",
    "X_test, y_test = test.copy().drop(columns=\"y_vari\"), test[\"y_vari\"]\n",
    "type(X_train), type(X_test)"
   ]
  },
  {
   "cell_type": "code",
   "execution_count": 16,
   "metadata": {},
   "outputs": [
    {
     "data": {
      "text/html": [
       "<div>\n",
       "<style scoped>\n",
       "    .dataframe tbody tr th:only-of-type {\n",
       "        vertical-align: middle;\n",
       "    }\n",
       "\n",
       "    .dataframe tbody tr th {\n",
       "        vertical-align: top;\n",
       "    }\n",
       "\n",
       "    .dataframe thead th {\n",
       "        text-align: right;\n",
       "    }\n",
       "</style>\n",
       "<table border=\"1\" class=\"dataframe\">\n",
       "  <thead>\n",
       "    <tr style=\"text-align: right;\">\n",
       "      <th></th>\n",
       "      <th>abandon</th>\n",
       "      <th>abbey</th>\n",
       "      <th>abbrevi</th>\n",
       "      <th>aberr</th>\n",
       "      <th>abid</th>\n",
       "      <th>abil</th>\n",
       "      <th>abl</th>\n",
       "      <th>aboard</th>\n",
       "      <th>abod</th>\n",
       "      <th>abound</th>\n",
       "      <th>...</th>\n",
       "      <th>youv</th>\n",
       "      <th>youyou</th>\n",
       "      <th>zeal</th>\n",
       "      <th>zenith</th>\n",
       "      <th>zero</th>\n",
       "      <th>zeus</th>\n",
       "      <th>zigzag</th>\n",
       "      <th>zinc</th>\n",
       "      <th>zone</th>\n",
       "      <th>zoolog</th>\n",
       "    </tr>\n",
       "  </thead>\n",
       "  <tbody>\n",
       "    <tr>\n",
       "      <th>1685</th>\n",
       "      <td>0</td>\n",
       "      <td>0</td>\n",
       "      <td>0</td>\n",
       "      <td>0</td>\n",
       "      <td>0</td>\n",
       "      <td>0</td>\n",
       "      <td>0</td>\n",
       "      <td>0</td>\n",
       "      <td>0</td>\n",
       "      <td>0</td>\n",
       "      <td>...</td>\n",
       "      <td>0</td>\n",
       "      <td>0</td>\n",
       "      <td>0</td>\n",
       "      <td>0</td>\n",
       "      <td>0</td>\n",
       "      <td>0</td>\n",
       "      <td>0</td>\n",
       "      <td>0</td>\n",
       "      <td>0</td>\n",
       "      <td>0</td>\n",
       "    </tr>\n",
       "    <tr>\n",
       "      <th>754</th>\n",
       "      <td>0</td>\n",
       "      <td>0</td>\n",
       "      <td>0</td>\n",
       "      <td>0</td>\n",
       "      <td>0</td>\n",
       "      <td>0</td>\n",
       "      <td>0</td>\n",
       "      <td>0</td>\n",
       "      <td>0</td>\n",
       "      <td>0</td>\n",
       "      <td>...</td>\n",
       "      <td>0</td>\n",
       "      <td>0</td>\n",
       "      <td>0</td>\n",
       "      <td>0</td>\n",
       "      <td>0</td>\n",
       "      <td>0</td>\n",
       "      <td>0</td>\n",
       "      <td>0</td>\n",
       "      <td>0</td>\n",
       "      <td>0</td>\n",
       "    </tr>\n",
       "    <tr>\n",
       "      <th>2604</th>\n",
       "      <td>0</td>\n",
       "      <td>0</td>\n",
       "      <td>0</td>\n",
       "      <td>0</td>\n",
       "      <td>0</td>\n",
       "      <td>0</td>\n",
       "      <td>0</td>\n",
       "      <td>0</td>\n",
       "      <td>0</td>\n",
       "      <td>0</td>\n",
       "      <td>...</td>\n",
       "      <td>0</td>\n",
       "      <td>0</td>\n",
       "      <td>0</td>\n",
       "      <td>0</td>\n",
       "      <td>0</td>\n",
       "      <td>0</td>\n",
       "      <td>0</td>\n",
       "      <td>0</td>\n",
       "      <td>0</td>\n",
       "      <td>0</td>\n",
       "    </tr>\n",
       "    <tr>\n",
       "      <th>1696</th>\n",
       "      <td>0</td>\n",
       "      <td>0</td>\n",
       "      <td>0</td>\n",
       "      <td>0</td>\n",
       "      <td>0</td>\n",
       "      <td>0</td>\n",
       "      <td>0</td>\n",
       "      <td>0</td>\n",
       "      <td>0</td>\n",
       "      <td>0</td>\n",
       "      <td>...</td>\n",
       "      <td>0</td>\n",
       "      <td>0</td>\n",
       "      <td>0</td>\n",
       "      <td>0</td>\n",
       "      <td>0</td>\n",
       "      <td>0</td>\n",
       "      <td>0</td>\n",
       "      <td>0</td>\n",
       "      <td>0</td>\n",
       "      <td>0</td>\n",
       "    </tr>\n",
       "    <tr>\n",
       "      <th>1228</th>\n",
       "      <td>0</td>\n",
       "      <td>0</td>\n",
       "      <td>0</td>\n",
       "      <td>0</td>\n",
       "      <td>0</td>\n",
       "      <td>0</td>\n",
       "      <td>0</td>\n",
       "      <td>0</td>\n",
       "      <td>0</td>\n",
       "      <td>0</td>\n",
       "      <td>...</td>\n",
       "      <td>0</td>\n",
       "      <td>0</td>\n",
       "      <td>0</td>\n",
       "      <td>0</td>\n",
       "      <td>0</td>\n",
       "      <td>0</td>\n",
       "      <td>0</td>\n",
       "      <td>0</td>\n",
       "      <td>0</td>\n",
       "      <td>0</td>\n",
       "    </tr>\n",
       "  </tbody>\n",
       "</table>\n",
       "<p>5 rows × 6638 columns</p>\n",
       "</div>"
      ],
      "text/plain": [
       "      abandon  abbey  abbrevi  aberr  abid  abil  abl  aboard  abod  abound  \\\n",
       "1685        0      0        0      0     0     0    0       0     0       0   \n",
       "754         0      0        0      0     0     0    0       0     0       0   \n",
       "2604        0      0        0      0     0     0    0       0     0       0   \n",
       "1696        0      0        0      0     0     0    0       0     0       0   \n",
       "1228        0      0        0      0     0     0    0       0     0       0   \n",
       "\n",
       "      ...  youv  youyou  zeal  zenith  zero  zeus  zigzag  zinc  zone  zoolog  \n",
       "1685  ...     0       0     0       0     0     0       0     0     0       0  \n",
       "754   ...     0       0     0       0     0     0       0     0     0       0  \n",
       "2604  ...     0       0     0       0     0     0       0     0     0       0  \n",
       "1696  ...     0       0     0       0     0     0       0     0     0       0  \n",
       "1228  ...     0       0     0       0     0     0       0     0     0       0  \n",
       "\n",
       "[5 rows x 6638 columns]"
      ]
     },
     "execution_count": 16,
     "metadata": {},
     "output_type": "execute_result"
    }
   ],
   "source": [
    "X_train.head()"
   ]
  },
  {
   "cell_type": "code",
   "execution_count": 17,
   "metadata": {},
   "outputs": [],
   "source": [
    "from sklearn.linear_model import LinearRegression, Lasso, Ridge, SGDRegressor"
   ]
  },
  {
   "cell_type": "code",
   "execution_count": 18,
   "metadata": {},
   "outputs": [],
   "source": [
    "def run_(model):\n",
    "    model.fit(X_train, y_train)\n",
    "    print(model, \" MSE:\", mean_squared_error(y_test, model.predict(X_test)))"
   ]
  },
  {
   "cell_type": "markdown",
   "metadata": {},
   "source": [
    "#### (Gridsearched hyperparams)"
   ]
  },
  {
   "cell_type": "code",
   "execution_count": 19,
   "metadata": {},
   "outputs": [],
   "source": [
    "skLin0 = LinearRegression(normalize=True)\n",
    "skLas0 = Lasso(alpha=0.01)\n",
    "skRid0 = Ridge(alpha=100)\n",
    "skSGD0 = SGDRegressor(alpha=0.1)\n",
    "models = [skLin0, skLas0, skRid0, skSGD0]"
   ]
  },
  {
   "cell_type": "code",
   "execution_count": 20,
   "metadata": {},
   "outputs": [
    {
     "name": "stdout",
     "output_type": "stream",
     "text": [
      "LinearRegression(normalize=True)  MSE: 1.3994777918272397e+25\n",
      "Lasso(alpha=0.01)  MSE: 0.6526138146048568\n",
      "Ridge(alpha=100)  MSE: 0.5671541079291023\n",
      "SGDRegressor(alpha=0.1)  MSE: 0.567625467472863\n"
     ]
    }
   ],
   "source": [
    "for model in models:\n",
    "    model.fit(X_train, y_train)\n",
    "    print(model, \" MSE:\", mean_squared_error(y_test, model.predict(X_test)))"
   ]
  },
  {
   "cell_type": "markdown",
   "metadata": {},
   "source": [
    "## SVD breaking down as seen in Linear Regression; MSE: 1.3994777918272397e+25  \n",
    "\n",
    "### But why?\n",
    "\n",
    "sklearn's LinearRegression, is Ordinary Least Squares solved with SVD, while Lasso uses coordinate descent, Ridge automatically chooses a solver which would be a conjugent gradient solver in this example, and SGDRegressor uses stochastic gradient descent."
   ]
  },
  {
   "cell_type": "markdown",
   "metadata": {},
   "source": [
    "## I tested out the limit of LinearRegression to be around 1000 passages and their associated reduced columns  \n",
    "\n",
    "### So lets see what is occuring during SVD when solving OLS  \n",
    "\n",
    "Wherein OLS parameter vector _x_ in R<sup>n</sup> is approximated using a wide Moore-Penrose pseudoinverse matrix via frobius norm minimization:  \n",
    "A<sup>+</sup> = V\\*S<sup>-1</sup>\\*U<sup>T</sup>  \n",
    "Such that:  \n",
    "_x_ = A<sup>+</sup>\\*b"
   ]
  },
  {
   "cell_type": "markdown",
   "metadata": {},
   "source": [
    "## In this case with a simple SVD without intercept;  \n",
    "\n",
    "As n >> m, p=m, S<sub>pxp</sub>, U<sub>nxn</sub> will be reduced to U<sub>nxp</sub> by cutting off the n-p emty columns in the numpy matrix calculations."
   ]
  },
  {
   "cell_type": "code",
   "execution_count": 21,
   "metadata": {},
   "outputs": [],
   "source": [
    "from numpy import transpose, diag, dot\n",
    "from numpy.linalg import svd, inv\n",
    "\n",
    "\n",
    "class SVD_OLS:\n",
    "    \n",
    "    \n",
    "    def __innit__(self):\n",
    "        self.X = None\n",
    "        self.y = None\n",
    "        self.m = 0\n",
    "        self.n = 0\n",
    "        self.params = []\n",
    "        self.predicted = []  # last pred\n",
    "        self.USV = []\n",
    "        self.VSU = []\n",
    "    \n",
    "    # helper\n",
    "    def prod(pair):\n",
    "        return pair[0]*pair[1]\n",
    "    \n",
    "    # helper\n",
    "    def predict_1(self, di):\n",
    "        base = 0.0\n",
    "        for j in range(0, len(di)):\n",
    "            base += (di[j]*self.params[j,0])\n",
    "        return float(base)\n",
    "    \n",
    "    \n",
    "    def predict_(self, data):\n",
    "        data = data.to_numpy()\n",
    "        base = 0.0\n",
    "        new_pred = []\n",
    "        for i in range(0, len(data)):\n",
    "            new_pred.append(self.predict_1(data[i]))\n",
    "        self.predicted = new_pred\n",
    "        return self.predicted\n",
    "    \n",
    "    # helper\n",
    "    def residual_1(self, i):\n",
    "        return (self.predict_1(i)-self.y[i])**2\n",
    "    \n",
    "    \n",
    "    def rss_(self):\n",
    "        base = 0.0\n",
    "        for i in range(0, self.m):\n",
    "            base += self.residual_1(i)\n",
    "        return base\n",
    "    \n",
    "    # helper\n",
    "    def genBaseParams(self, X_train, y_train):\n",
    "        if type(X_train) != np.ndarray:\n",
    "            self.X = X_train.to_numpy()\n",
    "        else:\n",
    "            self.X = X_train\n",
    "        self.y = []\n",
    "        for m in y_train:\n",
    "            self.y.append([m])\n",
    "        self.y = np.array(self.y)\n",
    "        self.m, self.n = len(self.X), len(self.X[0])\n",
    "        return\n",
    "        \n",
    "    \n",
    "    def fit_params_(self):\n",
    "        # 2-D array X and 2-D array y (list of 1 length lists)\n",
    "        U,S,Vt = svd(self.X, full_matrices=False)\n",
    "        V = transpose(Vt)\n",
    "        S_in = inv(diag(S))\n",
    "        Ut = transpose(U)\n",
    "        self.USV = [U, S, Vt]\n",
    "        self.VSU = [V, S_in, Ut]\n",
    "        Aplus = dot(dot(V,S_in),Ut)\n",
    "        fitted = dot(Aplus, self.y)\n",
    "        return fitted\n",
    "                          \n",
    "\n",
    "    def fit_(self, X_tr_, y_tr_):\n",
    "        self.genBaseParams(X_tr_, y_tr_)\n",
    "        self.params = self.fit_params_()\n",
    "\n",
    "\n",
    "    def get_USV_(self):\n",
    "        if self.USV:\n",
    "            return self.USV\n",
    "        return None\n",
    "\n",
    "    \n",
    "    def get_VSU_(self):\n",
    "        if self.VSU:\n",
    "            return self.VSU\n",
    "        return None\n"
   ]
  },
  {
   "cell_type": "markdown",
   "metadata": {},
   "source": [
    "#### Setting up a control with 800 passages"
   ]
  },
  {
   "cell_type": "code",
   "execution_count": 22,
   "metadata": {
    "jupyter": {
     "source_hidden": true
    }
   },
   "outputs": [],
   "source": [
    "CV1 = CountVectorizer()\n",
    "mtx_, cols_ = CV1.fit_transform(SBTokenizeAll(excerpts.array[0:800])).toarray(), CV1.get_feature_names()\n",
    "d_ = drop_cols_(mtx_, cols_)\n",
    "t1 = pd.DataFrame(d_)\n",
    "t1[\"y_\"] = targets[0:800]\n",
    "tr, ts = train_test_split(t1, test_size = 0.2)\n",
    "Xtr, ytr = tr.copy().drop(columns=\"y_\"), tr[\"y_\"]\n",
    "Xts, yts = ts.copy().drop(columns=\"y_\"), ts[\"y_\"]"
   ]
  },
  {
   "cell_type": "code",
   "execution_count": 23,
   "metadata": {},
   "outputs": [
    {
     "data": {
      "text/plain": [
       "0.6604729381178236"
      ]
     },
     "execution_count": 23,
     "metadata": {},
     "output_type": "execute_result"
    }
   ],
   "source": [
    "ols0 = SVD_OLS()\n",
    "ols0.fit_(Xtr, ytr)\n",
    "pred0 = ols0.predict_(Xts)\n",
    "mean_squared_error(yts, pred0)"
   ]
  },
  {
   "cell_type": "markdown",
   "metadata": {},
   "source": [
    "#### Now with all of them (2267 rows in X_train)"
   ]
  },
  {
   "cell_type": "code",
   "execution_count": 24,
   "metadata": {},
   "outputs": [
    {
     "data": {
      "text/plain": [
       "9.337979883305828e+26"
      ]
     },
     "execution_count": 24,
     "metadata": {},
     "output_type": "execute_result"
    }
   ],
   "source": [
    "ols1 = SVD_OLS()\n",
    "ols1.fit_(X_train,y_train)\n",
    "pred1 = ols1.predict_(X_test)\n",
    "mean_squared_error(y_test, pred1)"
   ]
  },
  {
   "cell_type": "markdown",
   "metadata": {},
   "source": [
    "#### Surely enough the MSE is monstrous"
   ]
  },
  {
   "cell_type": "code",
   "execution_count": 25,
   "metadata": {},
   "outputs": [
    {
     "data": {
      "text/plain": [
       "(0.00017683746485994112, 9.727708010348138)"
      ]
     },
     "execution_count": 25,
     "metadata": {},
     "output_type": "execute_result"
    }
   ],
   "source": [
    "np.mean(ols0.get_VSU_()[1]), np.mean(ols1.get_USV_()[1])"
   ]
  },
  {
   "cell_type": "markdown",
   "metadata": {},
   "source": [
    "#### and the diagonal entries of S have increased exponentially"
   ]
  },
  {
   "cell_type": "code",
   "execution_count": 26,
   "metadata": {},
   "outputs": [
    {
     "data": {
      "text/plain": [
       "[17843617891054.684,\n",
       " 41188599209302.69,\n",
       " -28161247837298.863,\n",
       " 8554822481868.797,\n",
       " 11122092147420.617,\n",
       " 7214629692707.3125]"
      ]
     },
     "execution_count": 26,
     "metadata": {},
     "output_type": "execute_result"
    }
   ],
   "source": [
    "ols1.predicted[0:6]"
   ]
  },
  {
   "cell_type": "markdown",
   "metadata": {},
   "source": [
    "#### so that the MSE becomes massive"
   ]
  },
  {
   "cell_type": "markdown",
   "metadata": {},
   "source": [
    "### SVD tries to find 2,267 singular values when using the entire training data (80% of the total \"train.csv\" data)"
   ]
  },
  {
   "cell_type": "markdown",
   "metadata": {},
   "source": [
    "### The trend of MSE as the number of components is increased from 100-500 through PCA"
   ]
  },
  {
   "cell_type": "code",
   "execution_count": 27,
   "metadata": {},
   "outputs": [],
   "source": [
    "from sklearn.decomposition import PCA"
   ]
  },
  {
   "cell_type": "code",
   "execution_count": 28,
   "metadata": {},
   "outputs": [],
   "source": [
    "i_cache = []\n",
    "mse_cache = []\n",
    "for i in range(100, 600, 100):\n",
    "    pca = PCA(n_components=i)\n",
    "    pca.fit(X_train)    \n",
    "    proj = pca.transform(X_train)\n",
    "    skLin1 = LinearRegression()\n",
    "    skLin1.fit(proj, y_train)\n",
    "    projt = pca.fit_transform(X_test)\n",
    "    i_cache.append(i)\n",
    "    mse_cache.append(mean_squared_error(y_test, skLin1.predict(projt)))"
   ]
  },
  {
   "cell_type": "code",
   "execution_count": 29,
   "metadata": {},
   "outputs": [
    {
     "data": {
      "text/plain": [
       "[<matplotlib.lines.Line2D at 0x140ebb898>]"
      ]
     },
     "execution_count": 29,
     "metadata": {},
     "output_type": "execute_result"
    },
    {
     "data": {
      "image/png": "[encoded data removed]",
      "text/plain": [
       "<Figure size 432x288 with 1 Axes>"
      ]
     },
     "metadata": {
      "needs_background": "light"
     },
     "output_type": "display_data"
    }
   ],
   "source": [
    "plt.plot(i_cache, mse_cache)"
   ]
  },
  {
   "cell_type": "markdown",
   "metadata": {},
   "source": [
    "#### ( 567 is all the components availible in the testing set without cross-validation)"
   ]
  },
  {
   "cell_type": "markdown",
   "metadata": {},
   "source": [
    "# Finally, I'll take a quick loop at Ridge's predictions with a 2 component spectral analysis"
   ]
  },
  {
   "cell_type": "code",
   "execution_count": 117,
   "metadata": {},
   "outputs": [],
   "source": [
    "vis = skSGD0.predict(X_test)"
   ]
  },
  {
   "cell_type": "code",
   "execution_count": 118,
   "metadata": {},
   "outputs": [
    {
     "data": {
      "text/plain": [
       "array([-1.18999809, -0.63215611])"
      ]
     },
     "execution_count": 118,
     "metadata": {},
     "output_type": "execute_result"
    }
   ],
   "source": [
    "np.quantile(vis, [0.33, 0.67])"
   ]
  },
  {
   "cell_type": "code",
   "execution_count": 119,
   "metadata": {},
   "outputs": [],
   "source": [
    "for i in range(len(vis)):\n",
    "    if  vis[i] > -0.632:\n",
    "        vis[i] = 1\n",
    "    elif vis[i] < -1.19:\n",
    "        vis[i] = 0"
   ]
  },
  {
   "cell_type": "code",
   "execution_count": 120,
   "metadata": {},
   "outputs": [],
   "source": [
    "pca = PCA(n_components=2)\n",
    "pca.fit(X_test)\n",
    "proj = pca.transform(X_test)"
   ]
  },
  {
   "cell_type": "code",
   "execution_count": 122,
   "metadata": {},
   "outputs": [
    {
     "data": {
      "text/plain": [
       "<matplotlib.legend.Legend at 0x16e2945f8>"
      ]
     },
     "execution_count": 122,
     "metadata": {},
     "output_type": "execute_result"
    },
    {
     "data": {
      "image/png": "[encoded data removed]",
      "text/plain": [
       "<Figure size 576x576 with 1 Axes>"
      ]
     },
     "metadata": {
      "needs_background": "light"
     },
     "output_type": "display_data"
    }
   ],
   "source": [
    "colors = ['tab:blue', 'tab:green']\n",
    "clusters = vis\n",
    "plt.figure(figsize=(8,8))\n",
    "for c in range(0,2):\n",
    "    plt.scatter(proj[(clusters == c), 0], proj[(clusters == c), 1],\n",
    "                c=colors[c], alpha=1, label=f'Class {c}')\n",
    "plt.legend()"
   ]
  },
  {
   "cell_type": "code",
   "execution_count": null,
   "metadata": {},
   "outputs": [],
   "source": []
  }
 ],
 "metadata": {
  "kernelspec": {
   "display_name": "Python 3",
   "language": "python",
   "name": "python3"
  },
  "language_info": {
   "codemirror_mode": {
    "name": "ipython",
    "version": 3
   },
   "file_extension": ".py",
   "mimetype": "text/x-python",
   "name": "python",
   "nbconvert_exporter": "python",
   "pygments_lexer": "ipython3",
   "version": "3.7.3"
  }
 },
 "nbformat": 4,
 "nbformat_minor": 4
}
